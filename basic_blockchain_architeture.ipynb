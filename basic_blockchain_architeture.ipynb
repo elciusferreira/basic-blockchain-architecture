{
 "cells": [
  {
   "cell_type": "markdown",
   "metadata": {},
   "source": [
    "# Basic Blockchain Architecture"
   ]
  },
  {
   "cell_type": "markdown",
   "metadata": {},
   "source": [
    "#### Implementação da arquiteura básica de uma Blockchain, passando por conceitos envolvendo transações, blocos, validação e atualização do estado do sistema. Na maior parte da implementação são usadas contas de duas pessoas (Elcius e Johannes) como exemplificação do funcionamento básico. Para uma introdução teórica ao assunto recomendo [este artigo do site Bits On Blocks](https://bitsonblocks.net/2015/09/09/a-gentle-introduction-to-blockchain-technology/).\n",
    "\n",
    "#### De forma simplificada, uma Blockchain é uma base de dados distribuída com um conjunto de regras para verificação da validade de novos elementos. Inicialmente, iremos acompanhar os saldos das contas de duas pessoas conforme simulamos a transferência de dinheiro entre elas. Um local para armazenamento de transações será criado para que elas sejam acessadas, validadas, inseridas em um bloco e para que esse bloco seja inserido ao final da Blockchain. \n",
    "\n",
    "#### Durante esse processo, várias verificações são feitas a fim de validar se as informações são honestas. Antes de se implementar essas verificações, é necessário trabalhar com funções que serão de alta importância, são elas as funções de hash."
   ]
  },
  {
   "cell_type": "markdown",
   "metadata": {},
   "source": [
    "### SHA256"
   ]
  },
  {
   "cell_type": "markdown",
   "metadata": {},
   "source": [
    "#### Função auxiliar que utiliza o algoritmo SHA256 como referência para a criação do hash."
   ]
  },
  {
   "cell_type": "code",
   "execution_count": 295,
   "metadata": {},
   "outputs": [],
   "source": [
    "import hashlib, json, sys\n",
    "\n",
    "''' Receives the message itself and returns the result of hash algoritm '''\n",
    "def hashing(msg=\"\"):\n",
    "    if type(msg)!=str:\n",
    "        msg = json.dumps(msg, sort_keys=True)   #loading json file to dictionary\n",
    "    \n",
    "    result = hashlib.sha256(str(msg).encode('utf-8')).hexdigest()\n",
    "    \n",
    "    return result"
   ]
  },
  {
   "cell_type": "markdown",
   "metadata": {},
   "source": [
    "## Transações"
   ]
  },
  {
   "cell_type": "markdown",
   "metadata": {},
   "source": [
    "### Gerando transações"
   ]
  },
  {
   "cell_type": "markdown",
   "metadata": {},
   "source": [
    "#### Nas transações, o envio de dinheiro será considerado como um número negativo e o recebimento como positivo. As transações são criadas como sendo entre dois usuários (Elcius e Johannes) do sistema sem que haja criação ou destruição de dinheiro."
   ]
  },
  {
   "cell_type": "code",
   "execution_count": 296,
   "metadata": {
    "collapsed": true
   },
   "outputs": [],
   "source": [
    "import random\n",
    "random.seed(0)\n",
    "\n",
    "''' Creates valid transactions in the range of 1 to max_value and returns them '''\n",
    "def transaction_generator(max_value=3):\n",
    "    sign = int(random.getrandbits(1)) * 2 - 1   # results in -1 or 1 randomly\n",
    "    amount = random.randint(1, max_value)   # randomly choose the amount from 1 to max_value\n",
    "    \n",
    "    elcius_value = sign * amount\n",
    "    johannes_value = - sign * amount\n",
    "    \n",
    "    summary = {'Elcius':elcius_value, 'Johannes':johannes_value}\n",
    "    \n",
    "    return summary"
   ]
  },
  {
   "cell_type": "markdown",
   "metadata": {},
   "source": [
    "### Criando um conjunto de transações"
   ]
  },
  {
   "cell_type": "code",
   "execution_count": 297,
   "metadata": {
    "scrolled": true
   },
   "outputs": [
    {
     "data": {
      "text/plain": [
       "[{'Elcius': 2, 'Johannes': -2},\n",
       " {'Elcius': 2, 'Johannes': -2},\n",
       " {'Elcius': -2, 'Johannes': 2},\n",
       " {'Elcius': 3, 'Johannes': -3},\n",
       " {'Elcius': -2, 'Johannes': 2},\n",
       " {'Elcius': 2, 'Johannes': -2},\n",
       " {'Elcius': 2, 'Johannes': -2},\n",
       " {'Elcius': -3, 'Johannes': 3},\n",
       " {'Elcius': 1, 'Johannes': -1},\n",
       " {'Elcius': 1, 'Johannes': -1},\n",
       " {'Elcius': -1, 'Johannes': 1},\n",
       " {'Elcius': 1, 'Johannes': -1},\n",
       " {'Elcius': 2, 'Johannes': -2},\n",
       " {'Elcius': 3, 'Johannes': -3},\n",
       " {'Elcius': 3, 'Johannes': -3}]"
      ]
     },
     "execution_count": 297,
     "metadata": {},
     "output_type": "execute_result"
    }
   ],
   "source": [
    "trns_buffer = [transaction_generator() for i in range(15)]\n",
    "trns_buffer"
   ]
  },
  {
   "cell_type": "markdown",
   "metadata": {},
   "source": [
    "#### Portanto, se Elcius está com valor -2 e Johannes com valor 2 na transação, significa que Elcius transferiu duas unidades de dinheiro ao usuário de Johannes."
   ]
  },
  {
   "cell_type": "markdown",
   "metadata": {},
   "source": [
    "### Validação de transações"
   ]
  },
  {
   "cell_type": "markdown",
   "metadata": {},
   "source": [
    "#### Para realizar a validação, estabelecemos duas regras que se violadas rejeitarão a transação:\n",
    "\n",
    "* A soma dos envios e dos recebimentos deve ser igual a zero\n",
    "* Um usuário deve ter saldo suficiente para realizar envios de dinheiro"
   ]
  },
  {
   "cell_type": "code",
   "execution_count": 298,
   "metadata": {
    "collapsed": true
   },
   "outputs": [],
   "source": [
    "''' Receives a transaction and if it is valid returns True else returns False '''\n",
    "def transaction_validation(trn, state):\n",
    "# tr: dictionary with transaction, all keys are account names\n",
    "# state: current balances of each account\n",
    "    if sum(trn.values()) != 0:   # check if no money was created or destroyed\n",
    "        return False\n",
    "\n",
    "    for key in trn.keys():\n",
    "        if key in state.keys():   # check if user exists at state dictionary\n",
    "            account_balance = state[key]   # access current balance\n",
    "        else: \n",
    "            account_balance = 0\n",
    "\n",
    "        if (account_balance + trn[key]) < 0:   # check if user has money enough to send\n",
    "            return False\n",
    "    \n",
    "    return True"
   ]
  },
  {
   "cell_type": "markdown",
   "metadata": {},
   "source": [
    "#### Testando a validação, se resultar em 'True' a transação é válida, se resultar em 'False' é inválida."
   ]
  },
  {
   "cell_type": "code",
   "execution_count": 299,
   "metadata": {
    "collapsed": true
   },
   "outputs": [
    {
     "name": "stdout",
     "output_type": "stream",
     "text": [
      "True {'Elcius': 2, 'Johannes': -2}\n",
      "True {'Elcius': 2, 'Johannes': -2}\n",
      "True {'Elcius': -2, 'Johannes': 2}\n",
      "True {'Elcius': 3, 'Johannes': -3}\n",
      "True {'Elcius': -2, 'Johannes': 2}\n",
      "True {'Elcius': 2, 'Johannes': -2}\n",
      "True {'Elcius': 2, 'Johannes': -2}\n",
      "True {'Elcius': -3, 'Johannes': 3}\n",
      "True {'Elcius': 1, 'Johannes': -1}\n",
      "True {'Elcius': 1, 'Johannes': -1}\n",
      "True {'Elcius': -1, 'Johannes': 1}\n",
      "True {'Elcius': 1, 'Johannes': -1}\n",
      "True {'Elcius': 2, 'Johannes': -2}\n",
      "True {'Elcius': 3, 'Johannes': -3}\n",
      "True {'Elcius': 3, 'Johannes': -3}\n"
     ]
    }
   ],
   "source": [
    "state = {'Elcius':5, 'Johannes':5}   # Set account balances\n",
    "\n",
    "for tr in trns_buffer:\n",
    "    print(transaction_validation(tr, state), tr)"
   ]
  },
  {
   "cell_type": "markdown",
   "metadata": {},
   "source": [
    "#### Outros casos de teste:"
   ]
  },
  {
   "cell_type": "code",
   "execution_count": 300,
   "metadata": {},
   "outputs": [
    {
     "name": "stdout",
     "output_type": "stream",
     "text": [
      "1st case: False {'Elcius': -4, 'Johannes': 3}\n",
      "2nd case: False {'Elcius': -4, 'Johannes': 5}\n",
      "3rd case: False {'Elcius': -6, 'Johannes': 6}\n",
      "4th case: False {'Elcius': -4, 'Johannes': 6, 'Samuel': -2}\n",
      "5th case: True {'Elcius': -4, 'Johannes': 2, 'Samuel': 2}\n",
      "6th case: False {'Elcius': -4, 'Johannes': 3, 'Samuel': 2}\n"
     ]
    }
   ],
   "source": [
    "trn = {'Elcius': -4, 'Johannes': 3}\n",
    "print('1st case:', transaction_validation(trn,state), trn)\n",
    "trn = {'Elcius': -4, 'Johannes': 5}\n",
    "print('2nd case:', transaction_validation(trn,state), trn)\n",
    "trn = {'Elcius': -6, 'Johannes': 6}\n",
    "print('3rd case:', transaction_validation(trn,state), trn)\n",
    "trn = {'Elcius': -4, 'Johannes': 6,'Samuel': -2}\n",
    "print('4th case:', transaction_validation(trn,state), trn)\n",
    "trn = {'Elcius': -4, 'Johannes': 2,'Samuel':2}\n",
    "print('5th case:', transaction_validation(trn,state), trn)\n",
    "trn = {'Elcius': -4, 'Johannes': 3,'Samuel':2}\n",
    "print('6th case:', transaction_validation(trn,state), trn)"
   ]
  },
  {
   "cell_type": "markdown",
   "metadata": {},
   "source": [
    "* No primeiro caso o resultado foi 'False' e a transação foi invalidada pois, durante a mesma, 1 unidade de dinheiro foi perdida, o que não pode acontecer.\n",
    "* O segundo caso resultou em 'False' e na invalidação pois, durante a transação, 1 unidade de dinheiro foi criada.\n",
    "* No terceiro, o resultado foi 'False' e foi invalidada pois Elcius não possuía 6 unidades de dinheiro como saldo na conta.\n",
    "* O segundo caso resultou em 'False' pois foi inserida uma pessoa na transação (Samuel) que não apresenta saldo em conta no dicionário 'state'.\n",
    "* No quinto caso, o resultado foi 'True' e a transação foi validada pois não há problemas em inserir uma pessoa a mais, na transação, que esteja recebendo dinheiro, mesmo ela não estando presente inicialmente no dicionário _state_ junto das informações das outras contas.\n",
    "* No sexto e último caso, a transação foi invalidada pois houve novamente a criação de 1 unidade de dinheiro ao se considerar os dois recebedores."
   ]
  },
  {
   "cell_type": "markdown",
   "metadata": {},
   "source": [
    "### Atualizando os saldos"
   ]
  },
  {
   "cell_type": "markdown",
   "metadata": {},
   "source": [
    "#### Para cada nova transação o estado dos saldos deve ser atualizado."
   ]
  },
  {
   "cell_type": "code",
   "execution_count": 301,
   "metadata": {},
   "outputs": [],
   "source": [
    "''' Updates state dictionary and add users to it if necessary '''\n",
    "def update_state(trn, state):\n",
    "# trn: dictionary with transaction, all keys are account names\n",
    "# state: current balances of each account\n",
    "    state = state.copy()\n",
    "    for key in trn:\n",
    "        if key in state.keys():\n",
    "            state[key] += trn[key]\n",
    "        else:   # add new account\n",
    "            state[key] = trn[key]\n",
    "            \n",
    "    return state"
   ]
  },
  {
   "cell_type": "code",
   "execution_count": 302,
   "metadata": {},
   "outputs": [
    {
     "name": "stdout",
     "output_type": "stream",
     "text": [
      "Transaction: {'Elcius': 2, 'Johannes': -2} is VALID. Current State: {'Elcius': 7, 'Johannes': 3}\n",
      "Transaction: {'Elcius': 2, 'Johannes': -2} is VALID. Current State: {'Elcius': 9, 'Johannes': 1}\n",
      "Transaction: {'Elcius': -2, 'Johannes': 2} is VALID. Current State: {'Elcius': 7, 'Johannes': 3}\n",
      "Transaction: {'Elcius': 3, 'Johannes': -3} is VALID. Current State: {'Elcius': 10, 'Johannes': 0}\n",
      "Transaction: {'Elcius': -2, 'Johannes': 2} is VALID. Current State: {'Elcius': 8, 'Johannes': 2}\n",
      "Transaction: {'Elcius': 2, 'Johannes': -2} is VALID. Current State: {'Elcius': 10, 'Johannes': 0}\n",
      "Transaction: {'Elcius': 2, 'Johannes': -2} is INVALID. Current State: {'Elcius': 10, 'Johannes': 0}\n",
      "Transaction: {'Elcius': -3, 'Johannes': 3} is VALID. Current State: {'Elcius': 7, 'Johannes': 3}\n",
      "Transaction: {'Elcius': 1, 'Johannes': -1} is VALID. Current State: {'Elcius': 8, 'Johannes': 2}\n",
      "Transaction: {'Elcius': 1, 'Johannes': -1} is VALID. Current State: {'Elcius': 9, 'Johannes': 1}\n",
      "Transaction: {'Elcius': -1, 'Johannes': 1} is VALID. Current State: {'Elcius': 8, 'Johannes': 2}\n",
      "Transaction: {'Elcius': 1, 'Johannes': -1} is VALID. Current State: {'Elcius': 9, 'Johannes': 1}\n",
      "Transaction: {'Elcius': 2, 'Johannes': -2} is INVALID. Current State: {'Elcius': 9, 'Johannes': 1}\n",
      "Transaction: {'Elcius': 3, 'Johannes': -3} is INVALID. Current State: {'Elcius': 9, 'Johannes': 1}\n",
      "Transaction: {'Elcius': 3, 'Johannes': -3} is INVALID. Current State: {'Elcius': 9, 'Johannes': 1}\n"
     ]
    }
   ],
   "source": [
    "state = {'Elcius':5, 'Johannes':5}   # Set initial account balances\n",
    "\n",
    "for trn in trns_buffer:\n",
    "    if transaction_validation(trn,state):\n",
    "        state = update_state(trn, state)\n",
    "        print('Transaction: %s is VALID. Current State: %s' %(trn, state))\n",
    "    else:\n",
    "        print('Transaction: %s is INVALID. Current State: %s' %(trn, state))"
   ]
  },
  {
   "cell_type": "markdown",
   "metadata": {},
   "source": [
    "## Cadeia e Blocos"
   ]
  },
  {
   "cell_type": "markdown",
   "metadata": {},
   "source": [
    "#### Para iniciar o trabalho com os blocos da Blockchain primeiro devemos criar o bloco inicial da cadeia, também conhecido como _genesis block_. Sejam os seguintes saldos iniciais das contas:"
   ]
  },
  {
   "cell_type": "code",
   "execution_count": 303,
   "metadata": {},
   "outputs": [],
   "source": [
    "state = {'Elcius': 50, 'Johannes': 50}"
   ]
  },
  {
   "cell_type": "markdown",
   "metadata": {},
   "source": [
    "### Genesis Block"
   ]
  },
  {
   "cell_type": "markdown",
   "metadata": {},
   "source": [
    "#### Os saldos acima constituem o conteúdo que ficará armazenado como transações no bloco inicial. Por ele ser o primeiro, será tratado um pouco diferente em relação a um bloco normal."
   ]
  },
  {
   "cell_type": "code",
   "execution_count": 304,
   "metadata": {},
   "outputs": [],
   "source": [
    "genesis_block_trns = [state]\n",
    "\n",
    "genesis_block_content = {\n",
    "    'block_number': 0,\n",
    "    'parent_hash': None,\n",
    "    'trns_quantity': 1,\n",
    "    'transactions': genesis_block_trns\n",
    "}\n",
    "\n",
    "genesis_hash = hashing(genesis_block_content)\n",
    "\n",
    "genesis_block = {\n",
    "    'hash': genesis_hash,\n",
    "    'content': genesis_block_content\n",
    "}"
   ]
  },
  {
   "cell_type": "markdown",
   "metadata": {},
   "source": [
    "#### Agora podemos adicionar esse primeiro bloco à cadeia:"
   ]
  },
  {
   "cell_type": "code",
   "execution_count": 305,
   "metadata": {},
   "outputs": [
    {
     "name": "stdout",
     "output_type": "stream",
     "text": [
      "[\n",
      "   {\n",
      "      \"hash\": \"b1f3f3cf7fb886cffc1e4b61cf65a74d18d2ee8b85ee80db26a8b0e6e2795ef5\",\n",
      "      \"content\": {\n",
      "         \"block_number\": 0,\n",
      "         \"parent_hash\": null,\n",
      "         \"trns_quantity\": 1,\n",
      "         \"transactions\": [\n",
      "            {\n",
      "               \"Elcius\": 50,\n",
      "               \"Johannes\": 50\n",
      "            }\n",
      "         ]\n",
      "      }\n",
      "   }\n",
      "]\n"
     ]
    }
   ],
   "source": [
    "chain = [genesis_block] # chain represented by a list of blocks\n",
    "print(json.dumps(chain, indent=3))"
   ]
  },
  {
   "cell_type": "markdown",
   "metadata": {},
   "source": [
    "### Criando novos blocos"
   ]
  },
  {
   "cell_type": "markdown",
   "metadata": {},
   "source": [
    "#### Em relação à criação dos blocos, temos que para cada novo bloco um número vai ser atribuído, o hash do bloco anterior vai ser obtido e um conjunto de transações vai ser coletado juntamente com a quantidade das mesmas. O Hash do bloco será criado levando em consideração todas essas informações."
   ]
  },
  {
   "cell_type": "code",
   "execution_count": 306,
   "metadata": {},
   "outputs": [],
   "source": [
    "''' Create a new block and return it '''\n",
    "def make_block(trns, chain):\n",
    "# trns: set of transactions\n",
    "# chain: the chain list\n",
    "    parent_block = chain[-1]\n",
    "    parent_hash = parent_block['hash']   \n",
    "    block_number = parent_block['content']['block_number'] + 1   \n",
    "    trns_quantity = len(trns)\n",
    "    \n",
    "    block_content = {\n",
    "        'block_number': block_number,\n",
    "        'parent_hash': parent_hash,\n",
    "        'trns_quantity': trns_quantity,\n",
    "        'transactions': trns\n",
    "    }\n",
    "    \n",
    "    block_hash = hashing(block_content)\n",
    "    \n",
    "    block = {\n",
    "        'hash': block_hash,\n",
    "        'content': block_content\n",
    "    }\n",
    "    \n",
    "    return block"
   ]
  },
  {
   "cell_type": "markdown",
   "metadata": {},
   "source": [
    "#### O buffer de transações será processado por inteiro e novos blocos serão feitos contendo no máximo 5 transações."
   ]
  },
  {
   "cell_type": "code",
   "execution_count": 307,
   "metadata": {},
   "outputs": [
    {
     "name": "stdout",
     "output_type": "stream",
     "text": [
      "Valid transaction: {'Elcius': 3, 'Johannes': -3},  State: {'Elcius': 53, 'Johannes': 47}\n",
      "Valid transaction: {'Elcius': 3, 'Johannes': -3},  State: {'Elcius': 56, 'Johannes': 44}\n",
      "Valid transaction: {'Elcius': 2, 'Johannes': -2},  State: {'Elcius': 58, 'Johannes': 42}\n",
      "Valid transaction: {'Elcius': 1, 'Johannes': -1},  State: {'Elcius': 59, 'Johannes': 41}\n",
      "Valid transaction: {'Elcius': -1, 'Johannes': 1},  State: {'Elcius': 58, 'Johannes': 42}\n",
      "Valid transaction: {'Elcius': 1, 'Johannes': -1},  State: {'Elcius': 59, 'Johannes': 41}\n",
      "Valid transaction: {'Elcius': 1, 'Johannes': -1},  State: {'Elcius': 60, 'Johannes': 40}\n",
      "Valid transaction: {'Elcius': -3, 'Johannes': 3},  State: {'Elcius': 57, 'Johannes': 43}\n",
      "Valid transaction: {'Elcius': 2, 'Johannes': -2},  State: {'Elcius': 59, 'Johannes': 41}\n",
      "Valid transaction: {'Elcius': 2, 'Johannes': -2},  State: {'Elcius': 61, 'Johannes': 39}\n",
      "Valid transaction: {'Elcius': -2, 'Johannes': 2},  State: {'Elcius': 59, 'Johannes': 41}\n",
      "Valid transaction: {'Elcius': 3, 'Johannes': -3},  State: {'Elcius': 62, 'Johannes': 38}\n",
      "Valid transaction: {'Elcius': -2, 'Johannes': 2},  State: {'Elcius': 60, 'Johannes': 40}\n",
      "Valid transaction: {'Elcius': 2, 'Johannes': -2},  State: {'Elcius': 62, 'Johannes': 38}\n",
      "Valid transaction: {'Elcius': 2, 'Johannes': -2},  State: {'Elcius': 64, 'Johannes': 36}\n"
     ]
    }
   ],
   "source": [
    "block_size_limit = 5   # limit quantity of transactions per block\n",
    "\n",
    "while len(trns_buffer) > 0:   # process entire buffer\n",
    "    trns_list = []   # store 5 transactions at most\n",
    "    \n",
    "    while (len(trns_buffer) > 0) and (len(trns_list) < block_size_limit):\n",
    "        new_trn = trns_buffer.pop()   # remove and get a transaction from buffer\n",
    "        valid = transaction_validation(new_trn, state)   # validate\n",
    "        \n",
    "        if valid:\n",
    "            trns_list.append(new_trn)\n",
    "            state = update_state(new_trn, state)            \n",
    "            print('Valid transaction: %s,  State: %s' %(new_trn, state))\n",
    "        else:\n",
    "            print('Invalid transaction: %s,  State: %s' %(new_trn, state))\n",
    "        \n",
    "    new_block = make_block(trns_list, chain)\n",
    "    chain.append(new_block)"
   ]
  },
  {
   "cell_type": "markdown",
   "metadata": {},
   "source": [
    "#### Como resultado temos a seguinte Blockchain:"
   ]
  },
  {
   "cell_type": "code",
   "execution_count": 308,
   "metadata": {},
   "outputs": [
    {
     "name": "stdout",
     "output_type": "stream",
     "text": [
      "[\n",
      "   {\n",
      "      \"hash\": \"b1f3f3cf7fb886cffc1e4b61cf65a74d18d2ee8b85ee80db26a8b0e6e2795ef5\",\n",
      "      \"content\": {\n",
      "         \"block_number\": 0,\n",
      "         \"parent_hash\": null,\n",
      "         \"trns_quantity\": 1,\n",
      "         \"transactions\": [\n",
      "            {\n",
      "               \"Elcius\": 50,\n",
      "               \"Johannes\": 50\n",
      "            }\n",
      "         ]\n",
      "      }\n",
      "   },\n",
      "   {\n",
      "      \"hash\": \"269bfdc756f46e85dfba8f6f7601237908ebb1494e8875c36d2fe9b3cfe53758\",\n",
      "      \"content\": {\n",
      "         \"block_number\": 1,\n",
      "         \"parent_hash\": \"b1f3f3cf7fb886cffc1e4b61cf65a74d18d2ee8b85ee80db26a8b0e6e2795ef5\",\n",
      "         \"trns_quantity\": 5,\n",
      "         \"transactions\": [\n",
      "            {\n",
      "               \"Elcius\": 3,\n",
      "               \"Johannes\": -3\n",
      "            },\n",
      "            {\n",
      "               \"Elcius\": 3,\n",
      "               \"Johannes\": -3\n",
      "            },\n",
      "            {\n",
      "               \"Elcius\": 2,\n",
      "               \"Johannes\": -2\n",
      "            },\n",
      "            {\n",
      "               \"Elcius\": 1,\n",
      "               \"Johannes\": -1\n",
      "            },\n",
      "            {\n",
      "               \"Elcius\": -1,\n",
      "               \"Johannes\": 1\n",
      "            }\n",
      "         ]\n",
      "      }\n",
      "   },\n",
      "   {\n",
      "      \"hash\": \"da9bd212b763f16b64377cd9794c85efb158c4853133273284d44a8cae7bb893\",\n",
      "      \"content\": {\n",
      "         \"block_number\": 2,\n",
      "         \"parent_hash\": \"269bfdc756f46e85dfba8f6f7601237908ebb1494e8875c36d2fe9b3cfe53758\",\n",
      "         \"trns_quantity\": 5,\n",
      "         \"transactions\": [\n",
      "            {\n",
      "               \"Elcius\": 1,\n",
      "               \"Johannes\": -1\n",
      "            },\n",
      "            {\n",
      "               \"Elcius\": 1,\n",
      "               \"Johannes\": -1\n",
      "            },\n",
      "            {\n",
      "               \"Elcius\": -3,\n",
      "               \"Johannes\": 3\n",
      "            },\n",
      "            {\n",
      "               \"Elcius\": 2,\n",
      "               \"Johannes\": -2\n",
      "            },\n",
      "            {\n",
      "               \"Elcius\": 2,\n",
      "               \"Johannes\": -2\n",
      "            }\n",
      "         ]\n",
      "      }\n",
      "   },\n",
      "   {\n",
      "      \"hash\": \"660c4526071fb12cb0bd4c4b450e673c7f501bff420cb19eb51f67d803767eaf\",\n",
      "      \"content\": {\n",
      "         \"block_number\": 3,\n",
      "         \"parent_hash\": \"da9bd212b763f16b64377cd9794c85efb158c4853133273284d44a8cae7bb893\",\n",
      "         \"trns_quantity\": 5,\n",
      "         \"transactions\": [\n",
      "            {\n",
      "               \"Elcius\": -2,\n",
      "               \"Johannes\": 2\n",
      "            },\n",
      "            {\n",
      "               \"Elcius\": 3,\n",
      "               \"Johannes\": -3\n",
      "            },\n",
      "            {\n",
      "               \"Elcius\": -2,\n",
      "               \"Johannes\": 2\n",
      "            },\n",
      "            {\n",
      "               \"Elcius\": 2,\n",
      "               \"Johannes\": -2\n",
      "            },\n",
      "            {\n",
      "               \"Elcius\": 2,\n",
      "               \"Johannes\": -2\n",
      "            }\n",
      "         ]\n",
      "      }\n",
      "   }\n",
      "]\n"
     ]
    }
   ],
   "source": [
    "print(json.dumps(chain, indent=3))"
   ]
  },
  {
   "cell_type": "code",
   "execution_count": 309,
   "metadata": {},
   "outputs": [
    {
     "data": {
      "text/plain": [
       "{'Elcius': 64, 'Johannes': 36}"
      ]
     },
     "execution_count": 309,
     "metadata": {},
     "output_type": "execute_result"
    }
   ],
   "source": [
    "state"
   ]
  },
  {
   "cell_type": "markdown",
   "metadata": {},
   "source": [
    "## Validação da cadeia"
   ]
  },
  {
   "cell_type": "markdown",
   "metadata": {},
   "source": [
    "#### Agora que é possível criar blocos e adicioná-los à cadeia, é necessário realizar uma validação para os novos blocos e consequentemente para a cadeia inteira."
   ]
  },
  {
   "cell_type": "code",
   "execution_count": 310,
   "metadata": {},
   "outputs": [],
   "source": [
    "''' Helper function to verify if the block hash matches it's content. \n",
    "    If it does not match then raises an exception'''\n",
    "def check_block_hash(block):\n",
    "    expected_hash = hashing(block['content'])\n",
    "    if expected_hash != block['hash']:\n",
    "        raise Exception('Hash does not match contents of block %s' % block['contents']['block_number'])\n",
    "    return"
   ]
  },
  {
   "cell_type": "markdown",
   "metadata": {},
   "source": [
    "#### A função a seguir verifica se: \n",
    "* Cada transação é válida dado o estado atual\n",
    "* O hash do bloco é válido de acordo com seu conteúdo\n",
    "* O número do bloco é igual ao número do bloco anterior + 1\n",
    "* Se refere corretamente ao hash do bloco anterior"
   ]
  },
  {
   "cell_type": "code",
   "execution_count": 311,
   "metadata": {},
   "outputs": [],
   "source": [
    "''' Check if the block is valid using information about parent and current state '''\n",
    "def check_block_validity(block, parent, state):\n",
    "    error = False\n",
    "    parent_number = parent['content']['block_number']\n",
    "    parent_hash = parent['hash']\n",
    "    block_number = block['content']['block_number']\n",
    "    \n",
    "    # Check transactions validity\n",
    "    for trn in block['content']['transactions']:\n",
    "        if transaction_validation(trn, state): \n",
    "            state = update_state(trn, state)\n",
    "        else:\n",
    "            raise Exception('Invalid transaction in block %s: %s' % (block_number, trn))\n",
    "            \n",
    "    # Check content integrity\n",
    "    if check_block_hash(block) == False:\n",
    "        print('Hash does not match content of block %s' % block['content']['block_number'])\n",
    "        error = True\n",
    "        return state, error\n",
    "    \n",
    "    # Check block number\n",
    "    if block_number != (parent_number + 1):\n",
    "        raise Exception('Parent number/block number not accurate at block %s' % block_number)\n",
    "    \n",
    "    # Check parent hash\n",
    "    if block['content']['parent_hash'] != parent_hash:\n",
    "        raise Exception('Parent hash not accurate at block %s' % block_number)\n",
    "    \n",
    "    return state"
   ]
  },
  {
   "cell_type": "markdown",
   "metadata": {},
   "source": [
    "#### A função abaixo percorre a cadeia a partir do bloco gênesis (que tem tratamento diferenciado) verificando se todas as transações são válidas e se os blocos estão conectados pelos hashes."
   ]
  },
  {
   "cell_type": "code",
   "execution_count": 313,
   "metadata": {},
   "outputs": [],
   "source": [
    "''' Check the validity of the entire chain and computes the state starting from the genesis block.\n",
    "    Returns the state if it is a valid chain, else prints an error messsage'''\n",
    "def check_chain(chain):\n",
    "    # Data input processing\n",
    "    if type(chain) == str:\n",
    "        try:\n",
    "            chain = json.loads(chain)\n",
    "            assert(type(chain) == list)   # Make sure the chain is a list of dicts\n",
    "        except: \n",
    "            return False\n",
    "    elif type(chain) != list:\n",
    "        return False\n",
    "    \n",
    "    state = {}\n",
    "    \n",
    "    # Creating genesis block\n",
    "    for trn in chain[0]['content']['transactions']:\n",
    "        state = update_state(trn, state)\n",
    "    check_block_hash(chain[0])\n",
    "    parent = chain[0]\n",
    "    \n",
    "    # Checking next blocks\n",
    "    for block in chain[1:]:\n",
    "        state = check_block_validity(block, parent, state)\n",
    "        parent = block\n",
    "        \n",
    "    return state"
   ]
  },
  {
   "cell_type": "code",
   "execution_count": 314,
   "metadata": {},
   "outputs": [
    {
     "data": {
      "text/plain": [
       "{'Elcius': 64, 'Johannes': 36}"
      ]
     },
     "execution_count": 314,
     "metadata": {},
     "output_type": "execute_result"
    }
   ],
   "source": [
    "check_chain(chain)"
   ]
  },
  {
   "cell_type": "markdown",
   "metadata": {},
   "source": [
    "## Arquitetura final"
   ]
  },
  {
   "cell_type": "markdown",
   "metadata": {},
   "source": [
    "#### Em uma rede real de uma Blockchain, novos nós baixam uma cópia da cadeia e fazem o que acabamos de fazer acima, verificam ela. Conforme mineradores criam novos blocos (pegando transações do buffer, validando-as e juntando-as), cada bloco novo chega aos nós da rede para que cada um adicione este bloco recém criado em suas próprias cópias da Blockchain.\n",
    "\n",
    "#### Como já sabemos reunir transações em um bloco e verificar a cópia da Blockchain, se simularmos o recebimento de um novo bloco, podemos verificá-lo e adicioná-lo na nossa cadeia.\n",
    "\n",
    "#### Representando o trabalho de um minerador de maneira simplificada temos:"
   ]
  },
  {
   "cell_type": "code",
   "execution_count": 316,
   "metadata": {},
   "outputs": [
    {
     "data": {
      "text/plain": [
       "{'content': {'block_number': 4,\n",
       "  'parent_hash': '660c4526071fb12cb0bd4c4b450e673c7f501bff420cb19eb51f67d803767eaf',\n",
       "  'transactions': [{'Elcius': 3, 'Johannes': -3},\n",
       "   {'Elcius': 1, 'Johannes': -1},\n",
       "   {'Elcius': -1, 'Johannes': 1},\n",
       "   {'Elcius': 1, 'Johannes': -1},\n",
       "   {'Elcius': 3, 'Johannes': -3}],\n",
       "  'trns_quantity': 5},\n",
       " 'hash': 'b4644bcaee4d7722a925e88fe6518b854840cc9c18e8b306b85d27b59d0a6f24'}"
      ]
     },
     "execution_count": 316,
     "metadata": {},
     "output_type": "execute_result"
    }
   ],
   "source": [
    "import copy\n",
    "\n",
    "miner_node_chain = copy.copy(chain)   # miner copies the Blockchain \n",
    "miner_node_trns = [transaction_generator() for i in range(5)]   #  get transactions\n",
    "new_block = make_block(miner_node_trns, miner_node_chain)   # create a block\n",
    "new_block"
   ]
  },
  {
   "cell_type": "markdown",
   "metadata": {},
   "source": [
    "#### Agora, assumimos que esse novo bloco minerado é transmitido para nosso nó pela rede. Verificaremos se esse bloco é válido, caso seja será adicionado à copia da Blockchain que temos."
   ]
  },
  {
   "cell_type": "code",
   "execution_count": 317,
   "metadata": {},
   "outputs": [
    {
     "name": "stdout",
     "output_type": "stream",
     "text": [
      "Current state:  {'Elcius': 64, 'Johannes': 36}\n",
      "Blockchain on our node is currently 4 blocks long\n",
      "\n",
      "New block received...\n",
      "Checking validity...\n",
      "\n",
      "Valid block! Waiting for the next block...\n",
      "\n",
      "New current state:  {'Elcius': 71, 'Johannes': 29}\n",
      "Blockchain on Node A is now 5 blocks long.\n"
     ]
    }
   ],
   "source": [
    "print(\"Current state: \", state)\n",
    "print(\"Blockchain on our node is currently %s blocks long\\n\" % len(chain))\n",
    "\n",
    "try:\n",
    "    print(\"New block received...\")\n",
    "    print(\"Checking validity...\\n\")\n",
    "    # Update the state. Throw an error if the block is invalid.\n",
    "    state = check_block_validity(new_block, chain[-1], state)\n",
    "    chain.append(new_block)\n",
    "    print(\"Valid block! Waiting for the next block...\\n\")\n",
    "except:\n",
    "    print(\"Invalid block! Ignoring it and waiting for the next block...\\n\")\n",
    "\n",
    "print(\"New current state: \", state)\n",
    "print(\"Blockchain on Node A is now %s blocks long.\" % len(chain))"
   ]
  },
  {
   "cell_type": "markdown",
   "metadata": {},
   "source": [
    "## Conclusão"
   ]
  },
  {
   "cell_type": "markdown",
   "metadata": {},
   "source": [
    "#### Desta forma têm-se a arquitetura básica de uma Blockchain, da criação de transações simplificadas à mecanismos de validação das mesmas, criação e validação de blocos e da cadeia inteira. Pode-se simular a manipulação dos saldos das contas a partir de uma cópia baixada da Blockchain, simular o recebimento de um novo bloco pela rede, validá-lo ou criá-lo.\n",
    "\n",
    "#### Não foram abordados alguns fatores da arquitetura da rede e conceitos como proof-of-work, consensus mechanism e criptografia (que garantem à Blockchain segurança contra ataques) também não foram explorados. Elementos que ficaram para um estudo futuro mais aprofundado!"
   ]
  }
 ],
 "metadata": {
  "kernelspec": {
   "display_name": "Python 3",
   "language": "python",
   "name": "python3"
  },
  "language_info": {
   "codemirror_mode": {
    "name": "ipython",
    "version": 3
   },
   "file_extension": ".py",
   "mimetype": "text/x-python",
   "name": "python",
   "nbconvert_exporter": "python",
   "pygments_lexer": "ipython3",
   "version": "3.6.1"
  }
 },
 "nbformat": 4,
 "nbformat_minor": 2
}
